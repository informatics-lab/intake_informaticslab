{
 "cells": [
  {
   "cell_type": "code",
   "execution_count": null,
   "metadata": {},
   "outputs": [],
   "source": [
    "# %conda install -c conda-forge -c informaticslab met_office_datasets xarray intake matplotlib "
   ]
  },
  {
   "cell_type": "code",
   "execution_count": null,
   "metadata": {},
   "outputs": [],
   "source": [
    "# import fsspec\n",
    "# print(fsspec.__version__)\n",
    "# import adlfs\n",
    "# print(adlfs.__version__)"
   ]
  },
  {
   "cell_type": "code",
   "execution_count": null,
   "metadata": {},
   "outputs": [],
   "source": [
    "import xarray as xr\n",
    "import numpy as np\n",
    "import intake\n",
    "# xr.set_options(display_style='text') # fix for display issue on AML CI\n",
    "import matplotlib\n",
    "import matplotlib.pyplot as plt"
   ]
  },
  {
   "cell_type": "code",
   "execution_count": null,
   "metadata": {},
   "outputs": [],
   "source": [
    "# For debugging\n",
    "# import logging\n",
    "# logger = logging.getLogger(\"met_office_datasets\")\n",
    "# logger.setLevel(\"INFO\")"
   ]
  },
  {
   "cell_type": "markdown",
   "metadata": {},
   "source": [
    "# Mogreps "
   ]
  },
  {
   "cell_type": "markdown",
   "metadata": {},
   "source": [
    "## height levels"
   ]
  },
  {
   "cell_type": "code",
   "execution_count": null,
   "metadata": {},
   "outputs": [],
   "source": [
    "ds_pressure_level = intake.cat.met_office.weather_forecasts.mogreps_uk.pressure_level.read_chunked()\n",
    "ds_pressure_level"
   ]
  },
  {
   "cell_type": "code",
   "execution_count": null,
   "metadata": {},
   "outputs": [],
   "source": [
    "ds_pressure_level.wet_bulb_potential_temperature_on_pressure_levels[slice(0,-1,10),3].mean('realization')[:,:,500,500].plot.line(x='pressure')"
   ]
  },
  {
   "cell_type": "code",
   "execution_count": null,
   "metadata": {},
   "outputs": [],
   "source": [
    "matplotlib.rcParams['figure.figsize'] = (15.0, 15.0)\n",
    "ds_pressure_level.wet_bulb_potential_temperature_on_pressure_levels[:5,0,:,:,:,:].mean(dim=['projection_y_coordinate','projection_x_coordinate','realization']).plot.line(x='pressure')"
   ]
  },
  {
   "cell_type": "markdown",
   "metadata": {},
   "source": [
    "## height levels"
   ]
  },
  {
   "cell_type": "code",
   "execution_count": null,
   "metadata": {},
   "outputs": [],
   "source": [
    "ds_height_level = intake.cat.met_office.weather_forecasts.mogreps_uk.height_level().read_chunked()\n",
    "ds_height_level"
   ]
  },
  {
   "cell_type": "code",
   "execution_count": null,
   "metadata": {},
   "outputs": [],
   "source": [
    "matplotlib.rcParams['figure.figsize'] = (15.0, 15.0)\n",
    "ds_height_level.temperature_on_height_levels[:5,0,:,:,:,:].mean(dim=['projection_y_coordinate','projection_x_coordinate','realization']).plot.line(x='height')"
   ]
  },
  {
   "cell_type": "markdown",
   "metadata": {},
   "source": [
    "## depth_level"
   ]
  },
  {
   "cell_type": "code",
   "execution_count": null,
   "metadata": {},
   "outputs": [],
   "source": [
    "depth_level_ds = intake.cat.met_office.weather_forecasts.mogreps_uk.depth_level.read_chunked()\n",
    "depth_level_ds"
   ]
  },
  {
   "cell_type": "code",
   "execution_count": null,
   "metadata": {},
   "outputs": [],
   "source": [
    "depth_level_ds.soil_temperature_on_soil_levels[slice(0,-1,10),1,:,:,900,900].min(dim='realization').plot.line(x='depth')"
   ]
  },
  {
   "cell_type": "markdown",
   "metadata": {},
   "source": [
    "## Single level"
   ]
  },
  {
   "cell_type": "code",
   "execution_count": null,
   "metadata": {},
   "outputs": [],
   "source": [
    "single_level_ds = intake.cat.met_office.weather_forecasts.mogreps_uk.single_level().read_chunked()"
   ]
  },
  {
   "cell_type": "code",
   "execution_count": null,
   "metadata": {},
   "outputs": [],
   "source": [
    "matplotlib.rcParams['figure.figsize'] = (15.0, 15.0)\n",
    "for var in random.choices(list(single_level_ds.data_vars),k=4):\n",
    "    for i in random.choices(range(single_level_ds[var].shape[0]), k=3):\n",
    "        j = random.randint(0, single_level_ds[var].shape[0] -1)\n",
    "        print(var, f\"[{i},{j}]\")\n",
    "        single_level_ds[var][i,j].mean(dim='realization').plot()\n",
    "        plt.show()\n"
   ]
  }
 ],
 "metadata": {
  "kernelspec": {
   "display_name": "py3.8",
   "language": "python",
   "name": "py3.8"
  },
  "language_info": {
   "codemirror_mode": {
    "name": "ipython",
    "version": 3
   },
   "file_extension": ".py",
   "mimetype": "text/x-python",
   "name": "python",
   "nbconvert_exporter": "python",
   "pygments_lexer": "ipython3",
   "version": "3.8.5"
  }
 },
 "nbformat": 4,
 "nbformat_minor": 4
}
